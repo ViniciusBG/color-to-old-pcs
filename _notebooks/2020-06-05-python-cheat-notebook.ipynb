{
  "nbformat": 4,
  "nbformat_minor": 0,
  "metadata": {
    "kernelspec": {
      "display_name": "Python 3",
      "language": "python",
      "name": "python3"
    },
    "language_info": {
      "codemirror_mode": {
        "name": "ipython",
        "version": 3
      },
      "file_extension": ".py",
      "mimetype": "text/x-python",
      "name": "python",
      "nbconvert_exporter": "python",
      "pygments_lexer": "ipython3",
      "version": "3.6.0"
    },
    "colab": {
      "name": "Python Cheat Sheet",
      "provenance": [],
      "collapsed_sections": []
    }
  },
  "cells": [
    {
      "cell_type": "markdown",
      "metadata": {
        "id": "qN86rz_WeH6g",
        "colab_type": "text"
      },
      "source": [
        "# Color to old pictures\n",
        "> Bringing a new light to black and white familiar pictures \n",
        "\n",
        "- toc: false\n",
        "- branch: master\n",
        "- badges: false\n",
        "- comments: true\n",
        "- author: Vinicius Bastos Gomes\n",
        "- categories: [deeplearning]\n",
        "\n"
      ]
    },
    {
      "cell_type": "markdown",
      "metadata": {
        "id": "NNUdH_S-r0bz",
        "colab_type": "text"
      },
      "source": [
        "<figure>\n",
        "<center>\n",
        "<img src='https://i.imgur.com/DLOtF1p.png'  width=170;height=80;vertical-align=middle /> \n",
        "</figure>"
      ]
    },
    {
      "cell_type": "markdown",
      "metadata": {
        "id": "oozIyKenMJdY",
        "colab_type": "text"
      },
      "source": [
        "\n",
        "<center>\n",
        "\n",
        "## **Python - Referências Resumidas**\n",
        "\n",
        "\n",
        "\n",
        "**Esse notebook contém referências em Python, com comentários reduzidos**\n"
      ]
    },
    {
      "cell_type": "markdown",
      "metadata": {
        "id": "CY9Kf8FBYpYS",
        "colab_type": "text"
      },
      "source": [
        "### **Comentáros e print()**\n"
      ]
    },
    {
      "cell_type": "code",
      "metadata": {
        "id": "SPmzSVZy_QBj",
        "colab_type": "code",
        "colab": {}
      },
      "source": [
        "#Sou um comentário! Quando há texto após uma hashtag, esse texto não afeta o código."
      ],
      "execution_count": 0,
      "outputs": []
    },
    {
      "cell_type": "code",
      "metadata": {
        "id": "jAAI_Z7GY80S",
        "colab_type": "code",
        "outputId": "752c0ffd-de01-4520-ccdd-cd3fdb58fa30",
        "colab": {
          "base_uri": "https://localhost:8080/",
          "height": 34
        }
      },
      "source": [
        "print(\"Olá\")"
      ],
      "execution_count": 2,
      "outputs": [
        {
          "output_type": "stream",
          "text": [
            "Olá\n"
          ],
          "name": "stdout"
        }
      ]
    },
    {
      "cell_type": "markdown",
      "metadata": {
        "id": "-DsdsfCCMJdZ",
        "colab_type": "text"
      },
      "source": [
        "### **Operações com números**\n"
      ]
    },
    {
      "cell_type": "code",
      "metadata": {
        "id": "dMs9u9E4MJdb",
        "colab_type": "code",
        "outputId": "6162715c-c2ea-4583-8bc6-63c869a48683",
        "colab": {
          "base_uri": "https://localhost:8080/",
          "height": 34
        }
      },
      "source": [
        "5 + 5 #adição"
      ],
      "execution_count": 3,
      "outputs": [
        {
          "output_type": "execute_result",
          "data": {
            "text/plain": [
              "10"
            ]
          },
          "metadata": {
            "tags": []
          },
          "execution_count": 3
        }
      ]
    },
    {
      "cell_type": "code",
      "metadata": {
        "id": "U-oLL_JmMJdh",
        "colab_type": "code",
        "outputId": "6611cf0e-0191-485b-d738-f1094c388b93",
        "colab": {
          "base_uri": "https://localhost:8080/",
          "height": 34
        }
      },
      "source": [
        "5 * 5 #multiplicação"
      ],
      "execution_count": 4,
      "outputs": [
        {
          "output_type": "execute_result",
          "data": {
            "text/plain": [
              "25"
            ]
          },
          "metadata": {
            "tags": []
          },
          "execution_count": 4
        }
      ]
    },
    {
      "cell_type": "code",
      "metadata": {
        "id": "OTRyu_PKMJdm",
        "colab_type": "code",
        "outputId": "302b03c8-a090-4a96-b556-3be1b39f99ba",
        "colab": {
          "base_uri": "https://localhost:8080/",
          "height": 34
        }
      },
      "source": [
        "5 / 5 #divisão"
      ],
      "execution_count": 5,
      "outputs": [
        {
          "output_type": "execute_result",
          "data": {
            "text/plain": [
              "1.0"
            ]
          },
          "metadata": {
            "tags": []
          },
          "execution_count": 5
        }
      ]
    },
    {
      "cell_type": "code",
      "metadata": {
        "id": "-R4cRpsgMJdq",
        "colab_type": "code",
        "outputId": "6472dc08-fc50-4782-9520-5422a7ee8162",
        "colab": {
          "base_uri": "https://localhost:8080/",
          "height": 34
        }
      },
      "source": [
        "5 ** 2 #potência"
      ],
      "execution_count": 6,
      "outputs": [
        {
          "output_type": "execute_result",
          "data": {
            "text/plain": [
              "25"
            ]
          },
          "metadata": {
            "tags": []
          },
          "execution_count": 6
        }
      ]
    },
    {
      "cell_type": "code",
      "metadata": {
        "id": "X-C-_coIMJdu",
        "colab_type": "code",
        "outputId": "78d4ef5c-5053-48d5-9d50-30a5d1538272",
        "colab": {
          "base_uri": "https://localhost:8080/",
          "height": 34
        }
      },
      "source": [
        "4 % 2 #resto de 4 dividido por 2"
      ],
      "execution_count": 7,
      "outputs": [
        {
          "output_type": "execute_result",
          "data": {
            "text/plain": [
              "0"
            ]
          },
          "metadata": {
            "tags": []
          },
          "execution_count": 7
        }
      ]
    },
    {
      "cell_type": "code",
      "metadata": {
        "id": "2AQvfxRQMJd1",
        "colab_type": "code",
        "outputId": "c7435393-0164-4f33-a247-d3867b59e593",
        "colab": {
          "base_uri": "https://localhost:8080/",
          "height": 34
        }
      },
      "source": [
        "5 % 2 #resto de 5 dividido por 2"
      ],
      "execution_count": 8,
      "outputs": [
        {
          "output_type": "execute_result",
          "data": {
            "text/plain": [
              "1"
            ]
          },
          "metadata": {
            "tags": []
          },
          "execution_count": 8
        }
      ]
    },
    {
      "cell_type": "code",
      "metadata": {
        "id": "emBSZ3CNMJd5",
        "colab_type": "code",
        "outputId": "a92fb92e-7588-4a61-959d-f065659736fd",
        "colab": {
          "base_uri": "https://localhost:8080/",
          "height": 34
        }
      },
      "source": [
        "(5 + 5) * (5 -1) #ordem das operações"
      ],
      "execution_count": 9,
      "outputs": [
        {
          "output_type": "execute_result",
          "data": {
            "text/plain": [
              "40"
            ]
          },
          "metadata": {
            "tags": []
          },
          "execution_count": 9
        }
      ]
    },
    {
      "cell_type": "code",
      "metadata": {
        "id": "D_tTyAAnbbSv",
        "colab_type": "code",
        "outputId": "97563674-7dd5-4814-a10c-4554a6f6777d",
        "colab": {
          "base_uri": "https://localhost:8080/",
          "height": 34
        }
      },
      "source": [
        "4/5 #numeros com casas decimais são denominados \"fluatuantes\" (float)"
      ],
      "execution_count": 10,
      "outputs": [
        {
          "output_type": "execute_result",
          "data": {
            "text/plain": [
              "0.8"
            ]
          },
          "metadata": {
            "tags": []
          },
          "execution_count": 10
        }
      ]
    },
    {
      "cell_type": "markdown",
      "metadata": {
        "id": "wC8uCqb7MJeP",
        "colab_type": "text"
      },
      "source": [
        "### **Strings (textos)**"
      ]
    },
    {
      "cell_type": "code",
      "metadata": {
        "id": "R4opMBEXMJeQ",
        "colab_type": "code",
        "outputId": "7fd3bc16-5b1b-45b6-c889-2a58e0b84e45",
        "colab": {
          "base_uri": "https://localhost:8080/",
          "height": 34
        }
      },
      "source": [
        "'sou uma string' #pode-se criar uma string com aspas simples"
      ],
      "execution_count": 11,
      "outputs": [
        {
          "output_type": "execute_result",
          "data": {
            "text/plain": [
              "'sou uma string'"
            ]
          },
          "metadata": {
            "tags": []
          },
          "execution_count": 11
        }
      ]
    },
    {
      "cell_type": "code",
      "metadata": {
        "id": "-6i9d7ZDMJeT",
        "colab_type": "code",
        "outputId": "50ba0fa4-9b33-4682-cbda-bbc57b8e5850",
        "colab": {
          "base_uri": "https://localhost:8080/",
          "height": 34
        }
      },
      "source": [
        "\"também sou uma string\" #pode-se criar uma string com aspas duplas"
      ],
      "execution_count": 12,
      "outputs": [
        {
          "output_type": "execute_result",
          "data": {
            "text/plain": [
              "'também sou uma string'"
            ]
          },
          "metadata": {
            "tags": []
          },
          "execution_count": 12
        }
      ]
    },
    {
      "cell_type": "code",
      "metadata": {
        "id": "vhNXezDUMJeX",
        "colab_type": "code",
        "outputId": "40d8cbaf-6c5f-4861-fbec-8213eecbf1eb",
        "colab": {
          "base_uri": "https://localhost:8080/",
          "height": 34
        }
      },
      "source": [
        "\" sou uma string com 'aspas simples'\" #para usar aspas simples dentro da string, cria se a string\n",
        "                                       #entre aspas duplas."
      ],
      "execution_count": 13,
      "outputs": [
        {
          "output_type": "execute_result",
          "data": {
            "text/plain": [
              "\" sou uma string com 'aspas simples'\""
            ]
          },
          "metadata": {
            "tags": []
          },
          "execution_count": 13
        }
      ]
    },
    {
      "cell_type": "code",
      "metadata": {
        "id": "nhzoUuIeowEW",
        "colab_type": "code",
        "outputId": "c4a405e3-1566-4eaf-8aeb-c8f7343eeceb",
        "colab": {
          "base_uri": "https://localhost:8080/",
          "height": 34
        }
      },
      "source": [
        "' sou uma string com \"aspas duplas\"' #para usar aspas duplas dentro da string, cria se a string\n",
        "                                     #entre aspas simples."
      ],
      "execution_count": 14,
      "outputs": [
        {
          "output_type": "execute_result",
          "data": {
            "text/plain": [
              "' sou uma string com \"aspas duplas\"'"
            ]
          },
          "metadata": {
            "tags": []
          },
          "execution_count": 14
        }
      ]
    },
    {
      "cell_type": "code",
      "metadata": {
        "id": "kjhuUoRxb_fn",
        "colab_type": "code",
        "outputId": "05a89098-9f31-4761-c81e-2f6a76115e90",
        "colab": {
          "base_uri": "https://localhost:8080/",
          "height": 34
        }
      },
      "source": [
        "print(\"sou uma string\".title()) # .title() faz com que a primeira letra de cada palavra fique maiúscula"
      ],
      "execution_count": 15,
      "outputs": [
        {
          "output_type": "stream",
          "text": [
            "Sou Uma String\n"
          ],
          "name": "stdout"
        }
      ]
    },
    {
      "cell_type": "code",
      "metadata": {
        "id": "ZkBLEtgqb_rD",
        "colab_type": "code",
        "outputId": "acfc0554-1535-4199-c1d3-277e82421c17",
        "colab": {
          "base_uri": "https://localhost:8080/",
          "height": 34
        }
      },
      "source": [
        "print(\"sou uma string\".lower()) # .lower() faz com que todas as letras seja minúsculas"
      ],
      "execution_count": 16,
      "outputs": [
        {
          "output_type": "stream",
          "text": [
            "sou uma string\n"
          ],
          "name": "stdout"
        }
      ]
    },
    {
      "cell_type": "code",
      "metadata": {
        "id": "pIkZj4D4b_10",
        "colab_type": "code",
        "outputId": "42f91603-76c8-498b-b395-351fc280a9cd",
        "colab": {
          "base_uri": "https://localhost:8080/",
          "height": 34
        }
      },
      "source": [
        "print(\"sou uma string\".upper()) # .upper() faz com que todas as letras seja maiúsculas"
      ],
      "execution_count": 17,
      "outputs": [
        {
          "output_type": "stream",
          "text": [
            "SOU UMA STRING\n"
          ],
          "name": "stdout"
        }
      ]
    },
    {
      "cell_type": "markdown",
      "metadata": {
        "id": "sejSX4fIMJfu",
        "colab_type": "text"
      },
      "source": [
        "### **Booleans e comparadores**"
      ]
    },
    {
      "cell_type": "code",
      "metadata": {
        "id": "wLI1heR9MJfv",
        "colab_type": "code",
        "outputId": "91d4b717-8fec-4f85-e89d-d62dcaa33397",
        "colab": {
          "base_uri": "https://localhost:8080/",
          "height": 34
        }
      },
      "source": [
        "True #verdadeiro"
      ],
      "execution_count": 18,
      "outputs": [
        {
          "output_type": "execute_result",
          "data": {
            "text/plain": [
              "True"
            ]
          },
          "metadata": {
            "tags": []
          },
          "execution_count": 18
        }
      ]
    },
    {
      "cell_type": "code",
      "metadata": {
        "id": "EzRXa4kyMJf2",
        "colab_type": "code",
        "outputId": "f2df7daf-3104-46b4-8bee-9b06a5a5ac63",
        "colab": {
          "base_uri": "https://localhost:8080/",
          "height": 34
        }
      },
      "source": [
        "False #falso"
      ],
      "execution_count": 19,
      "outputs": [
        {
          "output_type": "execute_result",
          "data": {
            "text/plain": [
              "False"
            ]
          },
          "metadata": {
            "tags": []
          },
          "execution_count": 19
        }
      ]
    },
    {
      "cell_type": "code",
      "metadata": {
        "id": "j9r47pWuMJgQ",
        "colab_type": "code",
        "outputId": "2b114660-540c-4602-fed0-c9c8b9fd532d",
        "colab": {
          "base_uri": "https://localhost:8080/",
          "height": 34
        }
      },
      "source": [
        "1 > 2 # falso"
      ],
      "execution_count": 20,
      "outputs": [
        {
          "output_type": "execute_result",
          "data": {
            "text/plain": [
              "False"
            ]
          },
          "metadata": {
            "tags": []
          },
          "execution_count": 20
        }
      ]
    },
    {
      "cell_type": "code",
      "metadata": {
        "id": "Exf6hZXPMJgT",
        "colab_type": "code",
        "outputId": "296a0d95-d838-4ac3-b76b-b8ac0a862ad5",
        "colab": {
          "base_uri": "https://localhost:8080/",
          "height": 34
        }
      },
      "source": [
        "1 < 2 # verdadeiro"
      ],
      "execution_count": 21,
      "outputs": [
        {
          "output_type": "execute_result",
          "data": {
            "text/plain": [
              "True"
            ]
          },
          "metadata": {
            "tags": []
          },
          "execution_count": 21
        }
      ]
    },
    {
      "cell_type": "code",
      "metadata": {
        "id": "qQQvgSemMJgW",
        "colab_type": "code",
        "outputId": "ffe4fc2f-b026-4a7e-e783-6994d2a4fcb7",
        "colab": {
          "base_uri": "https://localhost:8080/",
          "height": 34
        }
      },
      "source": [
        "10 >= 10 #maior ou igual (verdadeiro para a condição)"
      ],
      "execution_count": 22,
      "outputs": [
        {
          "output_type": "execute_result",
          "data": {
            "text/plain": [
              "True"
            ]
          },
          "metadata": {
            "tags": []
          },
          "execution_count": 22
        }
      ]
    },
    {
      "cell_type": "code",
      "metadata": {
        "id": "DXNk6MCnMJga",
        "colab_type": "code",
        "outputId": "ee28adb9-ad1a-4a73-97b5-8e84cfbe24ea",
        "colab": {
          "base_uri": "https://localhost:8080/",
          "height": 34
        }
      },
      "source": [
        "10 <= 40 #menor ou igual (verdadeiro para a condição)"
      ],
      "execution_count": 23,
      "outputs": [
        {
          "output_type": "execute_result",
          "data": {
            "text/plain": [
              "True"
            ]
          },
          "metadata": {
            "tags": []
          },
          "execution_count": 23
        }
      ]
    },
    {
      "cell_type": "code",
      "metadata": {
        "id": "W3hkTDlIMJgi",
        "colab_type": "code",
        "outputId": "682c375a-b62d-4ce7-ad51-300d8df8db53",
        "colab": {
          "base_uri": "https://localhost:8080/",
          "height": 34
        }
      },
      "source": [
        "1 == 1 #verdadeiro"
      ],
      "execution_count": 24,
      "outputs": [
        {
          "output_type": "execute_result",
          "data": {
            "text/plain": [
              "True"
            ]
          },
          "metadata": {
            "tags": []
          },
          "execution_count": 24
        }
      ]
    },
    {
      "cell_type": "code",
      "metadata": {
        "id": "kBabtcPrMJgk",
        "colab_type": "code",
        "outputId": "48fe7e4f-c56d-4379-f876-cce032188833",
        "colab": {
          "base_uri": "https://localhost:8080/",
          "height": 34
        }
      },
      "source": [
        "'palavra' == 'word' #falso"
      ],
      "execution_count": 25,
      "outputs": [
        {
          "output_type": "execute_result",
          "data": {
            "text/plain": [
              "False"
            ]
          },
          "metadata": {
            "tags": []
          },
          "execution_count": 25
        }
      ]
    },
    {
      "cell_type": "code",
      "metadata": {
        "id": "1-OTp_sf1bg8",
        "colab_type": "code",
        "outputId": "2b233010-9319-4e79-c86c-b5e3d2de5fbd",
        "colab": {
          "base_uri": "https://localhost:8080/",
          "height": 34
        }
      },
      "source": [
        "'palavra' == 'palavra' #verdadeiro"
      ],
      "execution_count": 26,
      "outputs": [
        {
          "output_type": "execute_result",
          "data": {
            "text/plain": [
              "True"
            ]
          },
          "metadata": {
            "tags": []
          },
          "execution_count": 26
        }
      ]
    },
    {
      "cell_type": "markdown",
      "metadata": {
        "id": "DnrlNCEyMJgo",
        "colab_type": "text"
      },
      "source": [
        "### **Conectivos**"
      ]
    },
    {
      "cell_type": "code",
      "metadata": {
        "id": "KhM26ekaMJgq",
        "colab_type": "code",
        "outputId": "6df35f0e-ad45-4d1e-8927-090686465b5a",
        "colab": {
          "base_uri": "https://localhost:8080/",
          "height": 34
        }
      },
      "source": [
        "(50 > 100) and (100 < 300) # E (as duas condições precisam ser satisfeitas)"
      ],
      "execution_count": 27,
      "outputs": [
        {
          "output_type": "execute_result",
          "data": {
            "text/plain": [
              "False"
            ]
          },
          "metadata": {
            "tags": []
          },
          "execution_count": 27
        }
      ]
    },
    {
      "cell_type": "code",
      "metadata": {
        "id": "tpq5uYyeMJgu",
        "colab_type": "code",
        "outputId": "43d1fa60-f63a-46f5-b49e-0e300b10d574",
        "colab": {
          "base_uri": "https://localhost:8080/",
          "height": 34
        }
      },
      "source": [
        "(10 > 20) or (20 < 30) # OU (apenas uma das condições precisa ser satisfeita)"
      ],
      "execution_count": 28,
      "outputs": [
        {
          "output_type": "execute_result",
          "data": {
            "text/plain": [
              "True"
            ]
          },
          "metadata": {
            "tags": []
          },
          "execution_count": 28
        }
      ]
    },
    {
      "cell_type": "code",
      "metadata": {
        "id": "KW6-f_0XMJgx",
        "colab_type": "code",
        "outputId": "b58d9aae-add8-4ba5-e1ea-b3e46e8da31f",
        "colab": {
          "base_uri": "https://localhost:8080/",
          "height": 34
        }
      },
      "source": [
        "(10 == 10.5) or (2 == 3) or (4 == 4)"
      ],
      "execution_count": 29,
      "outputs": [
        {
          "output_type": "execute_result",
          "data": {
            "text/plain": [
              "True"
            ]
          },
          "metadata": {
            "tags": []
          },
          "execution_count": 29
        }
      ]
    },
    {
      "cell_type": "markdown",
      "metadata": {
        "id": "zRiyR-6jMJg2",
        "colab_type": "text"
      },
      "source": [
        "### **if, elif, else**"
      ]
    },
    {
      "cell_type": "code",
      "metadata": {
        "id": "B-yc-o9wMJg3",
        "colab_type": "code",
        "outputId": "51a64b37-66e2-4b12-c539-2e8faa16761e",
        "colab": {
          "base_uri": "https://localhost:8080/",
          "height": 34
        }
      },
      "source": [
        "if 10 < 20: \n",
        "    print('Correto!') # condição satisfeita, o resultado será impresso"
      ],
      "execution_count": 30,
      "outputs": [
        {
          "output_type": "stream",
          "text": [
            "Correto!\n"
          ],
          "name": "stdout"
        }
      ]
    },
    {
      "cell_type": "code",
      "metadata": {
        "id": "ES-51_64MJg7",
        "colab_type": "code",
        "outputId": "ab0faef2-bfd8-44a0-f228-3cc07676c597",
        "colab": {
          "base_uri": "https://localhost:8080/",
          "height": 34
        }
      },
      "source": [
        "if 1 < 2:\n",
        "    print(\" Um é menor que dois!\") # condição satisfeita, o resultado será impresso"
      ],
      "execution_count": 31,
      "outputs": [
        {
          "output_type": "stream",
          "text": [
            " Um é menor que dois!\n"
          ],
          "name": "stdout"
        }
      ]
    },
    {
      "cell_type": "code",
      "metadata": {
        "id": "Lo-iia04MJg-",
        "colab_type": "code",
        "outputId": "96b7676e-231f-42bf-98fa-3e7773318e85",
        "colab": {
          "base_uri": "https://localhost:8080/",
          "height": 34
        }
      },
      "source": [
        "if 1 < 2: \n",
        "    print('Certo') # condição satisfeita, o resultado será impresso\n",
        "else:\n",
        "    print('Errado')"
      ],
      "execution_count": 32,
      "outputs": [
        {
          "output_type": "stream",
          "text": [
            "Certo\n"
          ],
          "name": "stdout"
        }
      ]
    },
    {
      "cell_type": "code",
      "metadata": {
        "id": "2VCr1ItpMJhC",
        "colab_type": "code",
        "outputId": "30c05720-dd55-436f-dffe-a02bd20bc3ca",
        "colab": {
          "base_uri": "https://localhost:8080/",
          "height": 34
        }
      },
      "source": [
        "if 1 > 2: \n",
        "    print('Certo') \n",
        "else:\n",
        "    print('Errado') # condição não satisfeita, o resultado do \"else\" será impresso"
      ],
      "execution_count": 33,
      "outputs": [
        {
          "output_type": "stream",
          "text": [
            "Errado\n"
          ],
          "name": "stdout"
        }
      ]
    },
    {
      "cell_type": "code",
      "metadata": {
        "id": "x5CwSRPXMJhF",
        "colab_type": "code",
        "outputId": "fb444f53-2f23-4530-e228-e3c8103af437",
        "colab": {
          "base_uri": "https://localhost:8080/",
          "height": 34
        }
      },
      "source": [
        "if 1 == 2:\n",
        "    print('primeira condição')\n",
        "elif 3 == 3:\n",
        "    print('segunda condição')\n",
        "else:\n",
        "    print('Nenhuma das condições') # a segunda condição é verdadeira"
      ],
      "execution_count": 34,
      "outputs": [
        {
          "output_type": "stream",
          "text": [
            "segunda condição\n"
          ],
          "name": "stdout"
        }
      ]
    },
    {
      "cell_type": "markdown",
      "metadata": {
        "id": "rQbQ7tdBMJea",
        "colab_type": "text"
      },
      "source": [
        "####  **Variáveis**\n",
        "\n",
        "Você pode pensar em variáveis como palavras que armazenam um valor. Simples assim:\n",
        "\n"
      ]
    },
    {
      "cell_type": "code",
      "metadata": {
        "id": "KIQghy2tpOKu",
        "colab_type": "code",
        "colab": {}
      },
      "source": [
        "variavel = 20 # define que 20 será armazenado na palavra variável"
      ],
      "execution_count": 0,
      "outputs": []
    },
    {
      "cell_type": "code",
      "metadata": {
        "id": "7TNOdQdXpOzV",
        "colab_type": "code",
        "outputId": "5ba959f0-b920-42c4-f47e-45140b64ab11",
        "colab": {
          "base_uri": "https://localhost:8080/",
          "height": 34
        }
      },
      "source": [
        "variavel # \"chamando\" a variável"
      ],
      "execution_count": 36,
      "outputs": [
        {
          "output_type": "execute_result",
          "data": {
            "text/plain": [
              "20"
            ]
          },
          "metadata": {
            "tags": []
          },
          "execution_count": 36
        }
      ]
    },
    {
      "cell_type": "code",
      "metadata": {
        "id": "Uep7y8qVMJeb",
        "colab_type": "code",
        "colab": {}
      },
      "source": [
        "two = 2\n",
        "palavra = 'palavra'  #definindo mais de uma variável"
      ],
      "execution_count": 0,
      "outputs": []
    },
    {
      "cell_type": "code",
      "metadata": {
        "id": "71x_mW4QMJeo",
        "colab_type": "code",
        "colab": {}
      },
      "source": [
        "idade = 25\n",
        "nome = 'John'"
      ],
      "execution_count": 0,
      "outputs": []
    },
    {
      "cell_type": "code",
      "metadata": {
        "id": "dT7DH8CyvKMj",
        "colab_type": "code",
        "outputId": "a18b3c71-19e8-4f92-d509-a9e1a43ed7c6",
        "colab": {
          "base_uri": "https://localhost:8080/",
          "height": 34
        }
      },
      "source": [
        "print(idade,nome) "
      ],
      "execution_count": 39,
      "outputs": [
        {
          "output_type": "stream",
          "text": [
            "25 John\n"
          ],
          "name": "stdout"
        }
      ]
    },
    {
      "cell_type": "code",
      "metadata": {
        "id": "ZH3uR_TQMJer",
        "colab_type": "code",
        "outputId": "08b926cf-0883-4c67-9414-5a5fe0797d1c",
        "colab": {
          "base_uri": "https://localhost:8080/",
          "height": 34
        }
      },
      "source": [
        "print('Meu nome é: {}, minha idade é: {}'.format(nome,idade)) \n",
        "# Com {} e .format() você substitui textos por variáveis:"
      ],
      "execution_count": 40,
      "outputs": [
        {
          "output_type": "stream",
          "text": [
            "Meu nome é: John, minha idade é: 25\n"
          ],
          "name": "stdout"
        }
      ]
    },
    {
      "cell_type": "markdown",
      "metadata": {
        "id": "0oldYoLiwGGc",
        "colab_type": "text"
      },
      "source": [
        "Também é possível criar variáveis a partir de valores de outras variáveis:"
      ]
    },
    {
      "cell_type": "code",
      "metadata": {
        "id": "A5TzPuBaMJeC",
        "colab_type": "code",
        "colab": {}
      },
      "source": [
        "x = 2\n",
        "y = 3"
      ],
      "execution_count": 0,
      "outputs": []
    },
    {
      "cell_type": "code",
      "metadata": {
        "id": "RuRv128rMJeG",
        "colab_type": "code",
        "colab": {}
      },
      "source": [
        "z = x + y # z é a soma de x e y, que podem ser quaisquer valores, mas nesse caso são 2 e 3."
      ],
      "execution_count": 0,
      "outputs": []
    },
    {
      "cell_type": "code",
      "metadata": {
        "id": "J51KNuBzMJeK",
        "colab_type": "code",
        "outputId": "714788a5-ef17-4be0-ef20-4ec656561100",
        "colab": {
          "base_uri": "https://localhost:8080/",
          "height": 34
        }
      },
      "source": [
        "z"
      ],
      "execution_count": 43,
      "outputs": [
        {
          "output_type": "execute_result",
          "data": {
            "text/plain": [
              "5"
            ]
          },
          "metadata": {
            "tags": []
          },
          "execution_count": 43
        }
      ]
    },
    {
      "cell_type": "markdown",
      "metadata": {
        "id": "xD8JZnuOMJey",
        "colab_type": "text"
      },
      "source": [
        "### **Listas**"
      ]
    },
    {
      "cell_type": "code",
      "metadata": {
        "id": "dni6scV4MJez",
        "colab_type": "code",
        "outputId": "b8dae41e-6232-45e4-8334-f1e9b9b37a43",
        "colab": {
          "base_uri": "https://localhost:8080/",
          "height": 34
        }
      },
      "source": [
        "[5,10,15] # listas utilizam []"
      ],
      "execution_count": 44,
      "outputs": [
        {
          "output_type": "execute_result",
          "data": {
            "text/plain": [
              "[5, 10, 15]"
            ]
          },
          "metadata": {
            "tags": []
          },
          "execution_count": 44
        }
      ]
    },
    {
      "cell_type": "code",
      "metadata": {
        "id": "FdCycOvdMJe2",
        "colab_type": "code",
        "outputId": "9ed50ab7-aca5-4c9c-a2a5-7683b2df1433",
        "colab": {
          "base_uri": "https://localhost:8080/",
          "height": 34
        }
      },
      "source": [
        "['palavras',5,(5*5),nome] # é possível armazenar diferentes tipos de dados "
      ],
      "execution_count": 45,
      "outputs": [
        {
          "output_type": "execute_result",
          "data": {
            "text/plain": [
              "['palavras', 5, 25, 'John']"
            ]
          },
          "metadata": {
            "tags": []
          },
          "execution_count": 45
        }
      ]
    },
    {
      "cell_type": "markdown",
      "metadata": {
        "id": "6fO00QWL24Ih",
        "colab_type": "text"
      },
      "source": [
        "Pode-se adicionar um item à lista:"
      ]
    },
    {
      "cell_type": "code",
      "metadata": {
        "id": "eiXsA_qrMJe4",
        "colab_type": "code",
        "colab": {}
      },
      "source": [
        "lista = ['a','b','c'] # uma variável (lista) que contem uma lista"
      ],
      "execution_count": 0,
      "outputs": []
    },
    {
      "cell_type": "code",
      "metadata": {
        "id": "Ry5uj1sTMJe7",
        "colab_type": "code",
        "colab": {}
      },
      "source": [
        "lista.append('d') #append adiciona um item à lista"
      ],
      "execution_count": 0,
      "outputs": []
    },
    {
      "cell_type": "code",
      "metadata": {
        "id": "3kzPue04MJfC",
        "colab_type": "code",
        "outputId": "418d548f-3e9a-4409-a64e-b4e49c398056",
        "colab": {
          "base_uri": "https://localhost:8080/",
          "height": 34
        }
      },
      "source": [
        "lista # nossa lista após o append"
      ],
      "execution_count": 48,
      "outputs": [
        {
          "output_type": "execute_result",
          "data": {
            "text/plain": [
              "['a', 'b', 'c', 'd']"
            ]
          },
          "metadata": {
            "tags": []
          },
          "execution_count": 48
        }
      ]
    },
    {
      "cell_type": "code",
      "metadata": {
        "id": "GE-4gYIjMJfF",
        "colab_type": "code",
        "outputId": "0b3e68ae-7e80-470c-cf11-463813e47233",
        "colab": {
          "base_uri": "https://localhost:8080/",
          "height": 34
        }
      },
      "source": [
        "lista[0] #0 indexa o primeiro item da lista"
      ],
      "execution_count": 49,
      "outputs": [
        {
          "output_type": "execute_result",
          "data": {
            "text/plain": [
              "'a'"
            ]
          },
          "metadata": {
            "tags": []
          },
          "execution_count": 49
        }
      ]
    },
    {
      "cell_type": "code",
      "metadata": {
        "id": "C_SBUCCPMJfJ",
        "colab_type": "code",
        "outputId": "2056226d-ccee-4d3a-d24f-b24ffaa7d5e9",
        "colab": {
          "base_uri": "https://localhost:8080/",
          "height": 34
        }
      },
      "source": [
        "lista[1] #1 indexa o segundo item da lista"
      ],
      "execution_count": 50,
      "outputs": [
        {
          "output_type": "execute_result",
          "data": {
            "text/plain": [
              "'b'"
            ]
          },
          "metadata": {
            "tags": []
          },
          "execution_count": 50
        }
      ]
    },
    {
      "cell_type": "code",
      "metadata": {
        "id": "97nDOfuLMJfL",
        "colab_type": "code",
        "outputId": "389f8227-27ab-4885-ac3a-5d3547b1cd4d",
        "colab": {
          "base_uri": "https://localhost:8080/",
          "height": 34
        }
      },
      "source": [
        "lista[1:] # o que vem antes dos dois pontos é o ponto de partida da seleção. \n",
        "            #Nesse caso, seleciona-se do segundo item até o último"
      ],
      "execution_count": 51,
      "outputs": [
        {
          "output_type": "execute_result",
          "data": {
            "text/plain": [
              "['b', 'c', 'd']"
            ]
          },
          "metadata": {
            "tags": []
          },
          "execution_count": 51
        }
      ]
    },
    {
      "cell_type": "code",
      "metadata": {
        "id": "7c9XzBR0MJfO",
        "colab_type": "code",
        "outputId": "5923e8e9-6f88-4618-b7a7-c4eae03b63a9",
        "colab": {
          "base_uri": "https://localhost:8080/",
          "height": 34
        }
      },
      "source": [
        "lista[:2] # o que vem depois dos dois pontos é o ponto de chegada da seleção.\n",
        "          # Nesse caso, seleciona-se do primeiro item até o terceiro[2]"
      ],
      "execution_count": 52,
      "outputs": [
        {
          "output_type": "execute_result",
          "data": {
            "text/plain": [
              "['a', 'b']"
            ]
          },
          "metadata": {
            "tags": []
          },
          "execution_count": 52
        }
      ]
    },
    {
      "cell_type": "code",
      "metadata": {
        "id": "a6x0ktBBMJfS",
        "colab_type": "code",
        "colab": {}
      },
      "source": [
        "lista[0] = 'NEW' # substitui o elemento desjado"
      ],
      "execution_count": 0,
      "outputs": []
    },
    {
      "cell_type": "code",
      "metadata": {
        "id": "CBTodQ7pMJfV",
        "colab_type": "code",
        "outputId": "73f83a48-0d20-4e87-e5d0-014b9decaab1",
        "colab": {
          "base_uri": "https://localhost:8080/",
          "height": 34
        }
      },
      "source": [
        "lista #lista após substituição"
      ],
      "execution_count": 54,
      "outputs": [
        {
          "output_type": "execute_result",
          "data": {
            "text/plain": [
              "['NEW', 'b', 'c', 'd']"
            ]
          },
          "metadata": {
            "tags": []
          },
          "execution_count": 54
        }
      ]
    },
    {
      "cell_type": "code",
      "metadata": {
        "id": "KZEDxkRkhyXs",
        "colab_type": "code",
        "colab": {}
      },
      "source": [
        "del lista[2] #deleta o terceiro item da lista"
      ],
      "execution_count": 0,
      "outputs": []
    },
    {
      "cell_type": "code",
      "metadata": {
        "id": "Q_yl4VtIh-I_",
        "colab_type": "code",
        "outputId": "cfa6f009-366c-4165-f71f-ae6e6e2ae58d",
        "colab": {
          "base_uri": "https://localhost:8080/",
          "height": 34
        }
      },
      "source": [
        "lista #lista após a remoção do item"
      ],
      "execution_count": 56,
      "outputs": [
        {
          "output_type": "execute_result",
          "data": {
            "text/plain": [
              "['NEW', 'b', 'd']"
            ]
          },
          "metadata": {
            "tags": []
          },
          "execution_count": 56
        }
      ]
    },
    {
      "cell_type": "code",
      "metadata": {
        "id": "3d9uzCEadTjZ",
        "colab_type": "code",
        "outputId": "2ec7141c-28a6-4bef-b7e1-239d50d883f9",
        "colab": {
          "base_uri": "https://localhost:8080/",
          "height": 34
        }
      },
      "source": [
        "len(lista) #verifica a quantidade de itens presentes na lista."
      ],
      "execution_count": 57,
      "outputs": [
        {
          "output_type": "execute_result",
          "data": {
            "text/plain": [
              "3"
            ]
          },
          "metadata": {
            "tags": []
          },
          "execution_count": 57
        }
      ]
    },
    {
      "cell_type": "code",
      "metadata": {
        "id": "vdqNWqMzMJfY",
        "colab_type": "code",
        "colab": {}
      },
      "source": [
        "nest = [1,2,3,[4,5,['ola',\"pessoal\"]]] # É possível armazenar listas dentro de listas (nested list)\n",
        "                                       #os [] dentro da lista criam outras listas"
      ],
      "execution_count": 0,
      "outputs": []
    },
    {
      "cell_type": "code",
      "metadata": {
        "id": "pAHCyUj3MJfb",
        "colab_type": "code",
        "outputId": "c5874aff-d455-4fea-e2c8-9f11a8290e3a",
        "colab": {
          "base_uri": "https://localhost:8080/",
          "height": 34
        }
      },
      "source": [
        "nest[3] # o quarto item da lista nest é também uma lista"
      ],
      "execution_count": 59,
      "outputs": [
        {
          "output_type": "execute_result",
          "data": {
            "text/plain": [
              "[4, 5, ['ola', 'pessoal']]"
            ]
          },
          "metadata": {
            "tags": []
          },
          "execution_count": 59
        }
      ]
    },
    {
      "cell_type": "code",
      "metadata": {
        "id": "sIY3LBNzMJfd",
        "colab_type": "code",
        "outputId": "1f422787-94fa-4942-8e10-f348aaf1f1b2",
        "colab": {
          "base_uri": "https://localhost:8080/",
          "height": 34
        }
      },
      "source": [
        "nest[3][2] #localiza o elemento dentro da lista armazenda na list nest"
      ],
      "execution_count": 60,
      "outputs": [
        {
          "output_type": "execute_result",
          "data": {
            "text/plain": [
              "['ola', 'pessoal']"
            ]
          },
          "metadata": {
            "tags": []
          },
          "execution_count": 60
        }
      ]
    },
    {
      "cell_type": "code",
      "metadata": {
        "id": "7O-7WSXjMJfg",
        "colab_type": "code",
        "outputId": "409ff359-86bd-48b6-fd10-c6de9e1240ac",
        "colab": {
          "base_uri": "https://localhost:8080/",
          "height": 34
        }
      },
      "source": [
        "nest[3][2][0] # localiza o primeiro elemento dentro da lista que estava armazenada dentro lista nest"
      ],
      "execution_count": 61,
      "outputs": [
        {
          "output_type": "execute_result",
          "data": {
            "text/plain": [
              "'ola'"
            ]
          },
          "metadata": {
            "tags": []
          },
          "execution_count": 61
        }
      ]
    },
    {
      "cell_type": "code",
      "metadata": {
        "id": "yfAYkowThsX9",
        "colab_type": "code",
        "colab": {}
      },
      "source": [
        ""
      ],
      "execution_count": 0,
      "outputs": []
    },
    {
      "cell_type": "markdown",
      "metadata": {
        "id": "Az0HScepMJfj",
        "colab_type": "text"
      },
      "source": [
        "### **Dicionários**"
      ]
    },
    {
      "cell_type": "code",
      "metadata": {
        "id": "XfSt9X3WMJfj",
        "colab_type": "code",
        "colab": {}
      },
      "source": [
        "d = {'chave1':'item1','chave2':'item2'} # dicionários são criados com {} e possuem chaves e valores "
      ],
      "execution_count": 0,
      "outputs": []
    },
    {
      "cell_type": "code",
      "metadata": {
        "id": "LO1Iu9GWMJfm",
        "colab_type": "code",
        "outputId": "625ae267-75f9-4c65-f0e6-73a6c5420af2",
        "colab": {
          "base_uri": "https://localhost:8080/",
          "height": 34
        }
      },
      "source": [
        "d #mostrando o dicionário criado"
      ],
      "execution_count": 63,
      "outputs": [
        {
          "output_type": "execute_result",
          "data": {
            "text/plain": [
              "{'chave1': 'item1', 'chave2': 'item2'}"
            ]
          },
          "metadata": {
            "tags": []
          },
          "execution_count": 63
        }
      ]
    },
    {
      "cell_type": "code",
      "metadata": {
        "id": "ai_KQHEGMJfq",
        "colab_type": "code",
        "outputId": "e7499d4f-af9a-42fe-95cd-59c5b5559772",
        "colab": {
          "base_uri": "https://localhost:8080/",
          "height": 34
        }
      },
      "source": [
        "d['chave1'] # aqui, requisitamos o valor presente na chave1"
      ],
      "execution_count": 64,
      "outputs": [
        {
          "output_type": "execute_result",
          "data": {
            "text/plain": [
              "'item1'"
            ]
          },
          "metadata": {
            "tags": []
          },
          "execution_count": 64
        }
      ]
    },
    {
      "cell_type": "code",
      "metadata": {
        "id": "xrlF1d3WciwB",
        "colab_type": "code",
        "colab": {}
      },
      "source": [
        "d['chave3']=\"item3\" # é também possível adicionar chaves e valores ao dicionário, como no exemplo."
      ],
      "execution_count": 0,
      "outputs": []
    },
    {
      "cell_type": "code",
      "metadata": {
        "id": "0n-MrX4Gcn8I",
        "colab_type": "code",
        "outputId": "bad1b82b-622b-45e8-c010-6b38d7d68dbd",
        "colab": {
          "base_uri": "https://localhost:8080/",
          "height": 34
        }
      },
      "source": [
        "d # o dicionário após a adição da chave3"
      ],
      "execution_count": 66,
      "outputs": [
        {
          "output_type": "execute_result",
          "data": {
            "text/plain": [
              "{'chave1': 'item1', 'chave2': 'item2', 'chave3': 'item3'}"
            ]
          },
          "metadata": {
            "tags": []
          },
          "execution_count": 66
        }
      ]
    },
    {
      "cell_type": "markdown",
      "metadata": {
        "id": "cIby1Z0WMJf7",
        "colab_type": "text"
      },
      "source": [
        "### **Tuplas** "
      ]
    },
    {
      "cell_type": "code",
      "metadata": {
        "id": "T_bKaI_kMJf8",
        "colab_type": "code",
        "colab": {}
      },
      "source": [
        "t = (1,2,3) #tuplas são criadas com () e são imutáveis"
      ],
      "execution_count": 0,
      "outputs": []
    },
    {
      "cell_type": "code",
      "metadata": {
        "id": "zbW0xfmYMJgA",
        "colab_type": "code",
        "outputId": "00d86edb-6694-4aa3-d9b2-8e5b176b20a2",
        "colab": {
          "base_uri": "https://localhost:8080/",
          "height": 34
        }
      },
      "source": [
        "t[0]"
      ],
      "execution_count": 68,
      "outputs": [
        {
          "output_type": "execute_result",
          "data": {
            "text/plain": [
              "1"
            ]
          },
          "metadata": {
            "tags": []
          },
          "execution_count": 68
        }
      ]
    },
    {
      "cell_type": "code",
      "metadata": {
        "id": "upZe6fNvMJgD",
        "colab_type": "code",
        "outputId": "c018bfe6-f673-42b9-8fea-2b0cc3e5ffe9",
        "colab": {
          "base_uri": "https://localhost:8080/",
          "height": 168
        }
      },
      "source": [
        "t[0] = 'NOVA' # não é possível alterá-la, por isso um erro ocorrerá!"
      ],
      "execution_count": 70,
      "outputs": [
        {
          "output_type": "error",
          "ename": "TypeError",
          "evalue": "ignored",
          "traceback": [
            "\u001b[0;31m---------------------------------------------------------------------------\u001b[0m",
            "\u001b[0;31mTypeError\u001b[0m                                 Traceback (most recent call last)",
            "\u001b[0;32m<ipython-input-70-f21d1083cc30>\u001b[0m in \u001b[0;36m<module>\u001b[0;34m()\u001b[0m\n\u001b[0;32m----> 1\u001b[0;31m \u001b[0mt\u001b[0m\u001b[0;34m[\u001b[0m\u001b[0;36m0\u001b[0m\u001b[0;34m]\u001b[0m \u001b[0;34m=\u001b[0m \u001b[0;34m'NOVA'\u001b[0m \u001b[0;31m# não é possível alterá-la, por isso um erro ocorrerá!\u001b[0m\u001b[0;34m\u001b[0m\u001b[0;34m\u001b[0m\u001b[0m\n\u001b[0m",
            "\u001b[0;31mTypeError\u001b[0m: 'tuple' object does not support item assignment"
          ]
        }
      ]
    },
    {
      "cell_type": "markdown",
      "metadata": {
        "id": "1s8Cwhm_MJhI",
        "colab_type": "text"
      },
      "source": [
        "### Loops - **for**:"
      ]
    },
    {
      "cell_type": "code",
      "metadata": {
        "id": "gqjoo4oNMJhJ",
        "colab_type": "code",
        "colab": {}
      },
      "source": [
        "minha_lista = [1,2,3,4,5,\"olá\",'mundo'] # criando uma nova lista com números inteiros e palavras"
      ],
      "execution_count": 0,
      "outputs": []
    },
    {
      "cell_type": "code",
      "metadata": {
        "id": "2R0DenYKMJhL",
        "colab_type": "code",
        "outputId": "e2409755-ee8d-46cd-f699-e951daf7a5f0",
        "colab": {
          "base_uri": "https://localhost:8080/",
          "height": 141
        }
      },
      "source": [
        "for item in minha_lista: # neste for loop, é solicitado que cada item presente na\n",
        "    print(item)          # lista criada seja impresso."
      ],
      "execution_count": 72,
      "outputs": [
        {
          "output_type": "stream",
          "text": [
            "1\n",
            "2\n",
            "3\n",
            "4\n",
            "5\n",
            "olá\n",
            "mundo\n"
          ],
          "name": "stdout"
        }
      ]
    },
    {
      "cell_type": "code",
      "metadata": {
        "id": "UL9h8SwfMJhN",
        "colab_type": "code",
        "outputId": "029aed5e-5c44-4d7f-921f-4fe4d8320480",
        "colab": {
          "base_uri": "https://localhost:8080/",
          "height": 141
        }
      },
      "source": [
        "for item in minha_lista: # neste for loop, para cada item da lista reconhecido,\n",
        "    print('Looping')       # é solicitado que imprima a palavra \"Looping\" "
      ],
      "execution_count": 73,
      "outputs": [
        {
          "output_type": "stream",
          "text": [
            "Looping\n",
            "Looping\n",
            "Looping\n",
            "Looping\n",
            "Looping\n",
            "Looping\n",
            "Looping\n"
          ],
          "name": "stdout"
        }
      ]
    },
    {
      "cell_type": "code",
      "metadata": {
        "id": "Vf74xOtzMJhP",
        "colab_type": "code",
        "outputId": "e2f3be35-0998-409c-91f7-11803e89fb48",
        "colab": {
          "base_uri": "https://localhost:8080/",
          "height": 141
        }
      },
      "source": [
        "for i in minha_lista: #neste for loop, é solicitado que cada elemento da lista seja multiplicado por 2.\n",
        "    print(2*i)        # É importante perceber a diferença entre o comportamento do operador com números e strings."
      ],
      "execution_count": 74,
      "outputs": [
        {
          "output_type": "stream",
          "text": [
            "2\n",
            "4\n",
            "6\n",
            "8\n",
            "10\n",
            "oláolá\n",
            "mundomundo\n"
          ],
          "name": "stdout"
        }
      ]
    },
    {
      "cell_type": "markdown",
      "metadata": {
        "id": "7QfmmBNBMJhS",
        "colab_type": "text"
      },
      "source": [
        "### Loops - **while**"
      ]
    },
    {
      "cell_type": "code",
      "metadata": {
        "id": "LiC2dgQ9MJhS",
        "colab_type": "code",
        "outputId": "db223a9f-f6ab-480f-aa48-b994118de45c",
        "colab": {
          "base_uri": "https://localhost:8080/",
          "height": 87
        }
      },
      "source": [
        "i = 1\n",
        "while i < 5:                     #enquanto a condição solicitada for verdadeira (i menor que 5)\n",
        "    print('i is: {}'.format(i))  # o loop será executado.\n",
        "    i = i+1"
      ],
      "execution_count": 75,
      "outputs": [
        {
          "output_type": "stream",
          "text": [
            "i is: 1\n",
            "i is: 2\n",
            "i is: 3\n",
            "i is: 4\n"
          ],
          "name": "stdout"
        }
      ]
    },
    {
      "cell_type": "code",
      "metadata": {
        "id": "FIlL1ymcgtVI",
        "colab_type": "code",
        "outputId": "0fef461a-6d08-40ef-bf25-4898887227b9",
        "colab": {
          "base_uri": "https://localhost:8080/",
          "height": 87
        }
      },
      "source": [
        "i = 3\n",
        "while i < 7:                     #enquanto a condição solicitada for verdadeira (i menor que 7)\n",
        "    print('i is: {}'.format(i))  # o loop será executado.\n",
        "    i = i+1                      #o i é atualizado ao fim do loop"
      ],
      "execution_count": 76,
      "outputs": [
        {
          "output_type": "stream",
          "text": [
            "i is: 3\n",
            "i is: 4\n",
            "i is: 5\n",
            "i is: 6\n"
          ],
          "name": "stdout"
        }
      ]
    },
    {
      "cell_type": "markdown",
      "metadata": {
        "id": "DyCaByo-MJhU",
        "colab_type": "text"
      },
      "source": [
        "### **range()**"
      ]
    },
    {
      "cell_type": "code",
      "metadata": {
        "id": "BQ2ZagpZMJhV",
        "colab_type": "code",
        "outputId": "249037f7-95a9-453f-e462-8ea24d677538",
        "colab": {
          "base_uri": "https://localhost:8080/",
          "height": 34
        }
      },
      "source": [
        "range(0,5) #define um intervalo"
      ],
      "execution_count": 77,
      "outputs": [
        {
          "output_type": "execute_result",
          "data": {
            "text/plain": [
              "range(0, 5)"
            ]
          },
          "metadata": {
            "tags": []
          },
          "execution_count": 77
        }
      ]
    },
    {
      "cell_type": "code",
      "metadata": {
        "id": "1h4ehNTUMJhW",
        "colab_type": "code",
        "outputId": "c3e772c5-9f68-462a-ec82-5d6807670dcb",
        "colab": {
          "base_uri": "https://localhost:8080/",
          "height": 105
        }
      },
      "source": [
        "for i in range(0,5):       # define que o loop será executado enquanto i estiver dentro do range\n",
        "    print(\"O número é: {} \".format(i))"
      ],
      "execution_count": 78,
      "outputs": [
        {
          "output_type": "stream",
          "text": [
            "O número é: 0 \n",
            "O número é: 1 \n",
            "O número é: 2 \n",
            "O número é: 3 \n",
            "O número é: 4 \n"
          ],
          "name": "stdout"
        }
      ]
    },
    {
      "cell_type": "code",
      "metadata": {
        "id": "9wU_7ecFMJhY",
        "colab_type": "code",
        "outputId": "070d4f9d-9315-4e5a-b520-8dddf3aeeb06",
        "colab": {
          "base_uri": "https://localhost:8080/",
          "height": 34
        }
      },
      "source": [
        "list(range(2,7)) # transforma o range em uma lista de valores"
      ],
      "execution_count": 79,
      "outputs": [
        {
          "output_type": "execute_result",
          "data": {
            "text/plain": [
              "[2, 3, 4, 5, 6]"
            ]
          },
          "metadata": {
            "tags": []
          },
          "execution_count": 79
        }
      ]
    },
    {
      "cell_type": "markdown",
      "metadata": {
        "id": "InUGZvl7MJhd",
        "colab_type": "text"
      },
      "source": [
        "### **List comprehension**"
      ]
    },
    {
      "cell_type": "code",
      "metadata": {
        "id": "OjjrLQfKMJhd",
        "colab_type": "code",
        "colab": {}
      },
      "source": [
        "x = [1,2,3,4] #cria uma nova lista"
      ],
      "execution_count": 0,
      "outputs": []
    },
    {
      "cell_type": "code",
      "metadata": {
        "id": "1shJxeUUMJhg",
        "colab_type": "code",
        "outputId": "1ee811a8-4ff6-41c6-9f85-3d64ea1d23ce",
        "colab": {
          "base_uri": "https://localhost:8080/",
          "height": 34
        }
      },
      "source": [
        "out = []           #aqui é criado um loop para elevar os elementos da lista x à\n",
        "for item in x:     # potencia de 2.\n",
        "    out.append(item**2)\n",
        "print(out)"
      ],
      "execution_count": 81,
      "outputs": [
        {
          "output_type": "stream",
          "text": [
            "[1, 4, 9, 16]\n"
          ],
          "name": "stdout"
        }
      ]
    },
    {
      "cell_type": "code",
      "metadata": {
        "id": "8HKUDbqLMJhj",
        "colab_type": "code",
        "outputId": "c41d2725-52d0-46dc-fd7a-63e99763ed57",
        "colab": {
          "base_uri": "https://localhost:8080/",
          "height": 34
        }
      },
      "source": [
        "[item**2 for item in x] #aqui temos uma forma pythonica de realizar a mesma tarefa, com apenas uma \n",
        "                        #linha de código"
      ],
      "execution_count": 82,
      "outputs": [
        {
          "output_type": "execute_result",
          "data": {
            "text/plain": [
              "[1, 4, 9, 16]"
            ]
          },
          "metadata": {
            "tags": []
          },
          "execution_count": 82
        }
      ]
    },
    {
      "cell_type": "markdown",
      "metadata": {
        "id": "YfLOy6HzMJhm",
        "colab_type": "text"
      },
      "source": [
        "### **Funções**\n",
        "\n"
      ]
    },
    {
      "cell_type": "code",
      "metadata": {
        "id": "pZtSMKunMJhm",
        "colab_type": "code",
        "colab": {}
      },
      "source": [
        "def my_func(frase): #def é a palvra usada para criar a função. Após isso, vem o nome da função\n",
        "  print(frase)      #e dentro do parêntese vêm os parâmetros. Nessa caso, criamos uma função que vai\n",
        "                    #imprimir a frase que desejarmos.\n",
        "    "
      ],
      "execution_count": 0,
      "outputs": []
    },
    {
      "cell_type": "code",
      "metadata": {
        "id": "kgrLpWH3MJhp",
        "colab_type": "code",
        "outputId": "6b4ec26f-0695-40af-9011-94bdf1b6066a",
        "colab": {
          "base_uri": "https://localhost:8080/",
          "height": 34
        }
      },
      "source": [
        "my_func(\"Olá mundo\") #A frase é \"Olá mundo\""
      ],
      "execution_count": 84,
      "outputs": [
        {
          "output_type": "stream",
          "text": [
            "Olá mundo\n"
          ],
          "name": "stdout"
        }
      ]
    },
    {
      "cell_type": "code",
      "metadata": {
        "id": "Qujaq-SJMJhu",
        "colab_type": "code",
        "outputId": "26301e33-74ce-4b90-e329-57e6cdbe468f",
        "colab": {
          "base_uri": "https://localhost:8080/",
          "height": 34
        }
      },
      "source": [
        "my_func(\"Estou no curso de Data Science\") #Com uma segunda frase"
      ],
      "execution_count": 85,
      "outputs": [
        {
          "output_type": "stream",
          "text": [
            "Estou no curso de Data Science\n"
          ],
          "name": "stdout"
        }
      ]
    },
    {
      "cell_type": "code",
      "metadata": {
        "id": "tKuU_oIIMJh3",
        "colab_type": "code",
        "colab": {}
      },
      "source": [
        "def multiplicar_por_2(x): #Nesse caso, criamos uma função que multiplica por 2.\n",
        "    return x*2"
      ],
      "execution_count": 0,
      "outputs": []
    },
    {
      "cell_type": "code",
      "metadata": {
        "id": "k1USI3KdMJh5",
        "colab_type": "code",
        "colab": {}
      },
      "source": [
        "resultado = multiplicar_por_2(5) #Aplicando a função no número "
      ],
      "execution_count": 0,
      "outputs": []
    },
    {
      "cell_type": "code",
      "metadata": {
        "scrolled": true,
        "id": "JQbCyIK6MJh6",
        "colab_type": "code",
        "outputId": "250e12d0-4d7f-41f8-d5de-2edbdf61d2ce",
        "colab": {
          "base_uri": "https://localhost:8080/",
          "height": 34
        }
      },
      "source": [
        "resultado"
      ],
      "execution_count": 88,
      "outputs": [
        {
          "output_type": "execute_result",
          "data": {
            "text/plain": [
              "10"
            ]
          },
          "metadata": {
            "tags": []
          },
          "execution_count": 88
        }
      ]
    },
    {
      "cell_type": "code",
      "metadata": {
        "id": "GY7dVEYOfYj4",
        "colab_type": "code",
        "outputId": "48397971-9475-4945-dafa-12ff30c55ad3",
        "colab": {
          "base_uri": "https://localhost:8080/",
          "height": 34
        }
      },
      "source": [
        "mult_palavra = multiplicar_por_2('Olá ') #Pode-se aplicar com strings também, mas o comportamento é outro.\n",
        "mult_palavra"
      ],
      "execution_count": 89,
      "outputs": [
        {
          "output_type": "execute_result",
          "data": {
            "text/plain": [
              "'Olá Olá '"
            ]
          },
          "metadata": {
            "tags": []
          },
          "execution_count": 89
        }
      ]
    },
    {
      "cell_type": "code",
      "metadata": {
        "id": "5Qp5VYKlfYry",
        "colab_type": "code",
        "colab": {}
      },
      "source": [
        "def funcao_mais_complexa(x,y,z): #x,y,z são os parâmetros\n",
        "  soma = x+y+z                   #a função cria a variável soma\n",
        "  mult = x*y*z                   #a função cria a variável mult\n",
        "  print(\"A soma de x, y e z é: \", soma)           #a função imprime o solicitado\n",
        "  print(\"A multiplicação de x, y e z é: \", mult)\n"
      ],
      "execution_count": 0,
      "outputs": []
    },
    {
      "cell_type": "code",
      "metadata": {
        "id": "Fh74C_BafYpL",
        "colab_type": "code",
        "outputId": "4a47f249-a3b4-460f-d3eb-31d18adb4a6d",
        "colab": {
          "base_uri": "https://localhost:8080/",
          "height": 52
        }
      },
      "source": [
        "funcao_mais_complexa(5,2,3)"
      ],
      "execution_count": 91,
      "outputs": [
        {
          "output_type": "stream",
          "text": [
            "A soma de x, y e z é:  10\n",
            "A multiplicação de x, y e z é:  30\n"
          ],
          "name": "stdout"
        }
      ]
    },
    {
      "cell_type": "markdown",
      "metadata": {
        "id": "tBZ_r3laMJjC",
        "colab_type": "text"
      },
      "source": [
        "<figure>\n",
        "<center>\n",
        "<img src='https://i.imgur.com/DLOtF1p.png'  width=100;height=80;vertical-align=middle /> \n",
        "</figure>"
      ]
    }
  ]
}